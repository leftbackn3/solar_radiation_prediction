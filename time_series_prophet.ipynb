{
 "cells": [
  {
   "cell_type": "code",
   "execution_count": 4,
   "metadata": {},
   "outputs": [],
   "source": [
    "import pandas as pd\n",
    "import time\n",
    "import numpy as np\n",
    "import datetime\n",
    "from icecream import ic\n",
    "import matplotlib.pyplot as plt\n",
    "%matplotlib inline"
   ]
  },
  {
   "cell_type": "code",
   "execution_count": 5,
   "metadata": {},
   "outputs": [
    {
     "data": {
      "text/html": [
       "<div>\n",
       "<style scoped>\n",
       "    .dataframe tbody tr th:only-of-type {\n",
       "        vertical-align: middle;\n",
       "    }\n",
       "\n",
       "    .dataframe tbody tr th {\n",
       "        vertical-align: top;\n",
       "    }\n",
       "\n",
       "    .dataframe thead th {\n",
       "        text-align: right;\n",
       "    }\n",
       "</style>\n",
       "<table border=\"1\" class=\"dataframe\">\n",
       "  <thead>\n",
       "    <tr style=\"text-align: right;\">\n",
       "      <th></th>\n",
       "      <th>timestamp_year</th>\n",
       "      <th>timestamp_month</th>\n",
       "      <th>timestamp_day</th>\n",
       "      <th>total_irradiance</th>\n",
       "    </tr>\n",
       "  </thead>\n",
       "  <tbody>\n",
       "    <tr>\n",
       "      <th>0</th>\n",
       "      <td>1980</td>\n",
       "      <td>1</td>\n",
       "      <td>2</td>\n",
       "      <td>NaN</td>\n",
       "    </tr>\n",
       "    <tr>\n",
       "      <th>1</th>\n",
       "      <td>1980</td>\n",
       "      <td>1</td>\n",
       "      <td>3</td>\n",
       "      <td>NaN</td>\n",
       "    </tr>\n",
       "    <tr>\n",
       "      <th>2</th>\n",
       "      <td>1980</td>\n",
       "      <td>1</td>\n",
       "      <td>4</td>\n",
       "      <td>NaN</td>\n",
       "    </tr>\n",
       "    <tr>\n",
       "      <th>3</th>\n",
       "      <td>1980</td>\n",
       "      <td>1</td>\n",
       "      <td>5</td>\n",
       "      <td>NaN</td>\n",
       "    </tr>\n",
       "    <tr>\n",
       "      <th>4</th>\n",
       "      <td>1980</td>\n",
       "      <td>1</td>\n",
       "      <td>6</td>\n",
       "      <td>NaN</td>\n",
       "    </tr>\n",
       "  </tbody>\n",
       "</table>\n",
       "</div>"
      ],
      "text/plain": [
       "   timestamp_year  timestamp_month  timestamp_day  total_irradiance\n",
       "0            1980                1              2               NaN\n",
       "1            1980                1              3               NaN\n",
       "2            1980                1              4               NaN\n",
       "3            1980                1              5               NaN\n",
       "4            1980                1              6               NaN"
      ]
     },
     "execution_count": 5,
     "metadata": {},
     "output_type": "execute_result"
    }
   ],
   "source": [
    "data=pd.read_csv('dataset.csv',index_col=0)\n",
    "\n",
    "data.head()"
   ]
  },
  {
   "cell_type": "code",
   "execution_count": 6,
   "metadata": {},
   "outputs": [],
   "source": [
    "data=data.dropna()"
   ]
  },
  {
   "cell_type": "code",
   "execution_count": 8,
   "metadata": {},
   "outputs": [
    {
     "name": "stdout",
     "output_type": "stream",
     "text": [
      "<class 'pandas.core.frame.DataFrame'>\n",
      "Int64Index: 3053 entries, 45 to 3438\n",
      "Data columns (total 4 columns):\n",
      " #   Column            Non-Null Count  Dtype  \n",
      "---  ------            --------------  -----  \n",
      " 0   timestamp_year    3053 non-null   int64  \n",
      " 1   timestamp_month   3053 non-null   int64  \n",
      " 2   timestamp_day     3053 non-null   int64  \n",
      " 3   total_irradiance  3053 non-null   float64\n",
      "dtypes: float64(1), int64(3)\n",
      "memory usage: 119.3 KB\n"
     ]
    }
   ],
   "source": [
    "data.info()"
   ]
  },
  {
   "cell_type": "code",
   "execution_count": 9,
   "metadata": {},
   "outputs": [
    {
     "data": {
      "text/html": [
       "<div>\n",
       "<style scoped>\n",
       "    .dataframe tbody tr th:only-of-type {\n",
       "        vertical-align: middle;\n",
       "    }\n",
       "\n",
       "    .dataframe tbody tr th {\n",
       "        vertical-align: top;\n",
       "    }\n",
       "\n",
       "    .dataframe thead th {\n",
       "        text-align: right;\n",
       "    }\n",
       "</style>\n",
       "<table border=\"1\" class=\"dataframe\">\n",
       "  <thead>\n",
       "    <tr style=\"text-align: right;\">\n",
       "      <th></th>\n",
       "      <th>timestamp_year</th>\n",
       "      <th>timestamp_month</th>\n",
       "      <th>timestamp_day</th>\n",
       "      <th>total_irradiance</th>\n",
       "    </tr>\n",
       "  </thead>\n",
       "  <tbody>\n",
       "    <tr>\n",
       "      <th>45</th>\n",
       "      <td>1980</td>\n",
       "      <td>2</td>\n",
       "      <td>16</td>\n",
       "      <td>1367.776</td>\n",
       "    </tr>\n",
       "    <tr>\n",
       "      <th>46</th>\n",
       "      <td>1980</td>\n",
       "      <td>2</td>\n",
       "      <td>17</td>\n",
       "      <td>1367.898</td>\n",
       "    </tr>\n",
       "    <tr>\n",
       "      <th>47</th>\n",
       "      <td>1980</td>\n",
       "      <td>2</td>\n",
       "      <td>18</td>\n",
       "      <td>1368.060</td>\n",
       "    </tr>\n",
       "    <tr>\n",
       "      <th>49</th>\n",
       "      <td>1980</td>\n",
       "      <td>2</td>\n",
       "      <td>20</td>\n",
       "      <td>1368.202</td>\n",
       "    </tr>\n",
       "    <tr>\n",
       "      <th>50</th>\n",
       "      <td>1980</td>\n",
       "      <td>2</td>\n",
       "      <td>21</td>\n",
       "      <td>1368.383</td>\n",
       "    </tr>\n",
       "  </tbody>\n",
       "</table>\n",
       "</div>"
      ],
      "text/plain": [
       "    timestamp_year  timestamp_month  timestamp_day  total_irradiance\n",
       "45            1980                2             16          1367.776\n",
       "46            1980                2             17          1367.898\n",
       "47            1980                2             18          1368.060\n",
       "49            1980                2             20          1368.202\n",
       "50            1980                2             21          1368.383"
      ]
     },
     "execution_count": 9,
     "metadata": {},
     "output_type": "execute_result"
    }
   ],
   "source": [
    "data.head()"
   ]
  },
  {
   "cell_type": "code",
   "execution_count": 10,
   "metadata": {},
   "outputs": [],
   "source": [
    "date= pd.to_datetime((data.timestamp_year*10000+data.timestamp_month*100+data.timestamp_day).apply(str),format='%Y%m%d')"
   ]
  },
  {
   "cell_type": "code",
   "execution_count": 11,
   "metadata": {},
   "outputs": [],
   "source": [
    "data['date']=date"
   ]
  },
  {
   "cell_type": "code",
   "execution_count": 12,
   "metadata": {},
   "outputs": [
    {
     "data": {
      "text/html": [
       "<div>\n",
       "<style scoped>\n",
       "    .dataframe tbody tr th:only-of-type {\n",
       "        vertical-align: middle;\n",
       "    }\n",
       "\n",
       "    .dataframe tbody tr th {\n",
       "        vertical-align: top;\n",
       "    }\n",
       "\n",
       "    .dataframe thead th {\n",
       "        text-align: right;\n",
       "    }\n",
       "</style>\n",
       "<table border=\"1\" class=\"dataframe\">\n",
       "  <thead>\n",
       "    <tr style=\"text-align: right;\">\n",
       "      <th></th>\n",
       "      <th>timestamp_year</th>\n",
       "      <th>timestamp_month</th>\n",
       "      <th>timestamp_day</th>\n",
       "      <th>total_irradiance</th>\n",
       "      <th>date</th>\n",
       "    </tr>\n",
       "  </thead>\n",
       "  <tbody>\n",
       "    <tr>\n",
       "      <th>45</th>\n",
       "      <td>1980</td>\n",
       "      <td>2</td>\n",
       "      <td>16</td>\n",
       "      <td>1367.776</td>\n",
       "      <td>1980-02-16</td>\n",
       "    </tr>\n",
       "    <tr>\n",
       "      <th>46</th>\n",
       "      <td>1980</td>\n",
       "      <td>2</td>\n",
       "      <td>17</td>\n",
       "      <td>1367.898</td>\n",
       "      <td>1980-02-17</td>\n",
       "    </tr>\n",
       "    <tr>\n",
       "      <th>47</th>\n",
       "      <td>1980</td>\n",
       "      <td>2</td>\n",
       "      <td>18</td>\n",
       "      <td>1368.060</td>\n",
       "      <td>1980-02-18</td>\n",
       "    </tr>\n",
       "    <tr>\n",
       "      <th>49</th>\n",
       "      <td>1980</td>\n",
       "      <td>2</td>\n",
       "      <td>20</td>\n",
       "      <td>1368.202</td>\n",
       "      <td>1980-02-20</td>\n",
       "    </tr>\n",
       "    <tr>\n",
       "      <th>50</th>\n",
       "      <td>1980</td>\n",
       "      <td>2</td>\n",
       "      <td>21</td>\n",
       "      <td>1368.383</td>\n",
       "      <td>1980-02-21</td>\n",
       "    </tr>\n",
       "  </tbody>\n",
       "</table>\n",
       "</div>"
      ],
      "text/plain": [
       "    timestamp_year  timestamp_month  timestamp_day  total_irradiance  \\\n",
       "45            1980                2             16          1367.776   \n",
       "46            1980                2             17          1367.898   \n",
       "47            1980                2             18          1368.060   \n",
       "49            1980                2             20          1368.202   \n",
       "50            1980                2             21          1368.383   \n",
       "\n",
       "         date  \n",
       "45 1980-02-16  \n",
       "46 1980-02-17  \n",
       "47 1980-02-18  \n",
       "49 1980-02-20  \n",
       "50 1980-02-21  "
      ]
     },
     "execution_count": 12,
     "metadata": {},
     "output_type": "execute_result"
    }
   ],
   "source": [
    "data.head()"
   ]
  },
  {
   "cell_type": "code",
   "execution_count": 13,
   "metadata": {},
   "outputs": [],
   "source": [
    "train_data=data.loc[(data['timestamp_year'])<1988]\n",
    "test_data=data.loc[(data['timestamp_year'] >= 1988) & (data['timestamp_year'] <= 1989)]\n"
   ]
  },
  {
   "cell_type": "code",
   "execution_count": 14,
   "metadata": {},
   "outputs": [],
   "source": [
    "train_data=train_data.drop(columns=['timestamp_year','timestamp_month','timestamp_day'])\n",
    "test_data=test_data.drop(columns=['timestamp_year','timestamp_month','timestamp_day'])"
   ]
  },
  {
   "cell_type": "code",
   "execution_count": 23,
   "metadata": {},
   "outputs": [],
   "source": [
    "train_data.columns=['y','ds']"
   ]
  },
  {
   "cell_type": "code",
   "execution_count": 15,
   "metadata": {},
   "outputs": [],
   "source": [
    "from fbprophet import Prophet"
   ]
  },
  {
   "cell_type": "code",
   "execution_count": 24,
   "metadata": {},
   "outputs": [
    {
     "name": "stderr",
     "output_type": "stream",
     "text": [
      "C:\\Users\\Utsa Rabbani\\anaconda3\\lib\\site-packages\\pystan\\misc.py:399: FutureWarning: Conversion of the second argument of issubdtype from `float` to `np.floating` is deprecated. In future, it will be treated as `np.float64 == np.dtype(float).type`.\n",
      "  elif np.issubdtype(np.asarray(v).dtype, float):\n"
     ]
    }
   ],
   "source": [
    "m=Prophet(interval_width=0.95,daily_seasonality=True)\n",
    "model=m.fit(train_data)"
   ]
  },
  {
   "cell_type": "code",
   "execution_count": 28,
   "metadata": {
    "scrolled": true
   },
   "outputs": [
    {
     "data": {
      "text/html": [
       "<div>\n",
       "<style scoped>\n",
       "    .dataframe tbody tr th:only-of-type {\n",
       "        vertical-align: middle;\n",
       "    }\n",
       "\n",
       "    .dataframe tbody tr th {\n",
       "        vertical-align: top;\n",
       "    }\n",
       "\n",
       "    .dataframe thead th {\n",
       "        text-align: right;\n",
       "    }\n",
       "</style>\n",
       "<table border=\"1\" class=\"dataframe\">\n",
       "  <thead>\n",
       "    <tr style=\"text-align: right;\">\n",
       "      <th></th>\n",
       "      <th>ds</th>\n",
       "      <th>trend</th>\n",
       "      <th>yhat_lower</th>\n",
       "      <th>yhat_upper</th>\n",
       "      <th>trend_lower</th>\n",
       "      <th>trend_upper</th>\n",
       "      <th>additive_terms</th>\n",
       "      <th>additive_terms_lower</th>\n",
       "      <th>additive_terms_upper</th>\n",
       "      <th>daily</th>\n",
       "      <th>...</th>\n",
       "      <th>weekly</th>\n",
       "      <th>weekly_lower</th>\n",
       "      <th>weekly_upper</th>\n",
       "      <th>yearly</th>\n",
       "      <th>yearly_lower</th>\n",
       "      <th>yearly_upper</th>\n",
       "      <th>multiplicative_terms</th>\n",
       "      <th>multiplicative_terms_lower</th>\n",
       "      <th>multiplicative_terms_upper</th>\n",
       "      <th>yhat</th>\n",
       "    </tr>\n",
       "  </thead>\n",
       "  <tbody>\n",
       "    <tr>\n",
       "      <th>3266</th>\n",
       "      <td>1989-12-25</td>\n",
       "      <td>1366.684799</td>\n",
       "      <td>1344.505129</td>\n",
       "      <td>1389.719697</td>\n",
       "      <td>1343.521639</td>\n",
       "      <td>1388.605705</td>\n",
       "      <td>1.040127</td>\n",
       "      <td>1.040127</td>\n",
       "      <td>1.040127</td>\n",
       "      <td>1.05999</td>\n",
       "      <td>...</td>\n",
       "      <td>-0.013742</td>\n",
       "      <td>-0.013742</td>\n",
       "      <td>-0.013742</td>\n",
       "      <td>-0.006120</td>\n",
       "      <td>-0.006120</td>\n",
       "      <td>-0.006120</td>\n",
       "      <td>0.0</td>\n",
       "      <td>0.0</td>\n",
       "      <td>0.0</td>\n",
       "      <td>1367.724927</td>\n",
       "    </tr>\n",
       "    <tr>\n",
       "      <th>3267</th>\n",
       "      <td>1989-12-26</td>\n",
       "      <td>1366.685485</td>\n",
       "      <td>1344.690111</td>\n",
       "      <td>1389.482462</td>\n",
       "      <td>1343.474652</td>\n",
       "      <td>1388.657240</td>\n",
       "      <td>1.046428</td>\n",
       "      <td>1.046428</td>\n",
       "      <td>1.046428</td>\n",
       "      <td>1.05999</td>\n",
       "      <td>...</td>\n",
       "      <td>-0.020253</td>\n",
       "      <td>-0.020253</td>\n",
       "      <td>-0.020253</td>\n",
       "      <td>0.006692</td>\n",
       "      <td>0.006692</td>\n",
       "      <td>0.006692</td>\n",
       "      <td>0.0</td>\n",
       "      <td>0.0</td>\n",
       "      <td>0.0</td>\n",
       "      <td>1367.731913</td>\n",
       "    </tr>\n",
       "    <tr>\n",
       "      <th>3268</th>\n",
       "      <td>1989-12-27</td>\n",
       "      <td>1366.686171</td>\n",
       "      <td>1344.656507</td>\n",
       "      <td>1389.521879</td>\n",
       "      <td>1343.427665</td>\n",
       "      <td>1388.708776</td>\n",
       "      <td>1.067205</td>\n",
       "      <td>1.067205</td>\n",
       "      <td>1.067205</td>\n",
       "      <td>1.05999</td>\n",
       "      <td>...</td>\n",
       "      <td>-0.014841</td>\n",
       "      <td>-0.014841</td>\n",
       "      <td>-0.014841</td>\n",
       "      <td>0.022056</td>\n",
       "      <td>0.022056</td>\n",
       "      <td>0.022056</td>\n",
       "      <td>0.0</td>\n",
       "      <td>0.0</td>\n",
       "      <td>0.0</td>\n",
       "      <td>1367.753377</td>\n",
       "    </tr>\n",
       "    <tr>\n",
       "      <th>3269</th>\n",
       "      <td>1989-12-28</td>\n",
       "      <td>1366.686857</td>\n",
       "      <td>1344.399873</td>\n",
       "      <td>1389.556415</td>\n",
       "      <td>1343.380677</td>\n",
       "      <td>1388.760311</td>\n",
       "      <td>1.122797</td>\n",
       "      <td>1.122797</td>\n",
       "      <td>1.122797</td>\n",
       "      <td>1.05999</td>\n",
       "      <td>...</td>\n",
       "      <td>0.023121</td>\n",
       "      <td>0.023121</td>\n",
       "      <td>0.023121</td>\n",
       "      <td>0.039686</td>\n",
       "      <td>0.039686</td>\n",
       "      <td>0.039686</td>\n",
       "      <td>0.0</td>\n",
       "      <td>0.0</td>\n",
       "      <td>0.0</td>\n",
       "      <td>1367.809654</td>\n",
       "    </tr>\n",
       "    <tr>\n",
       "      <th>3270</th>\n",
       "      <td>1989-12-29</td>\n",
       "      <td>1366.687544</td>\n",
       "      <td>1344.553036</td>\n",
       "      <td>1390.177601</td>\n",
       "      <td>1343.333690</td>\n",
       "      <td>1388.811846</td>\n",
       "      <td>1.134423</td>\n",
       "      <td>1.134423</td>\n",
       "      <td>1.134423</td>\n",
       "      <td>1.05999</td>\n",
       "      <td>...</td>\n",
       "      <td>0.015199</td>\n",
       "      <td>0.015199</td>\n",
       "      <td>0.015199</td>\n",
       "      <td>0.059234</td>\n",
       "      <td>0.059234</td>\n",
       "      <td>0.059234</td>\n",
       "      <td>0.0</td>\n",
       "      <td>0.0</td>\n",
       "      <td>0.0</td>\n",
       "      <td>1367.821966</td>\n",
       "    </tr>\n",
       "  </tbody>\n",
       "</table>\n",
       "<p>5 rows × 22 columns</p>\n",
       "</div>"
      ],
      "text/plain": [
       "             ds        trend   yhat_lower   yhat_upper  trend_lower  \\\n",
       "3266 1989-12-25  1366.684799  1344.505129  1389.719697  1343.521639   \n",
       "3267 1989-12-26  1366.685485  1344.690111  1389.482462  1343.474652   \n",
       "3268 1989-12-27  1366.686171  1344.656507  1389.521879  1343.427665   \n",
       "3269 1989-12-28  1366.686857  1344.399873  1389.556415  1343.380677   \n",
       "3270 1989-12-29  1366.687544  1344.553036  1390.177601  1343.333690   \n",
       "\n",
       "      trend_upper  additive_terms  additive_terms_lower  additive_terms_upper  \\\n",
       "3266  1388.605705        1.040127              1.040127              1.040127   \n",
       "3267  1388.657240        1.046428              1.046428              1.046428   \n",
       "3268  1388.708776        1.067205              1.067205              1.067205   \n",
       "3269  1388.760311        1.122797              1.122797              1.122797   \n",
       "3270  1388.811846        1.134423              1.134423              1.134423   \n",
       "\n",
       "        daily  ...    weekly  weekly_lower  weekly_upper    yearly  \\\n",
       "3266  1.05999  ... -0.013742     -0.013742     -0.013742 -0.006120   \n",
       "3267  1.05999  ... -0.020253     -0.020253     -0.020253  0.006692   \n",
       "3268  1.05999  ... -0.014841     -0.014841     -0.014841  0.022056   \n",
       "3269  1.05999  ...  0.023121      0.023121      0.023121  0.039686   \n",
       "3270  1.05999  ...  0.015199      0.015199      0.015199  0.059234   \n",
       "\n",
       "      yearly_lower  yearly_upper  multiplicative_terms  \\\n",
       "3266     -0.006120     -0.006120                   0.0   \n",
       "3267      0.006692      0.006692                   0.0   \n",
       "3268      0.022056      0.022056                   0.0   \n",
       "3269      0.039686      0.039686                   0.0   \n",
       "3270      0.059234      0.059234                   0.0   \n",
       "\n",
       "      multiplicative_terms_lower  multiplicative_terms_upper         yhat  \n",
       "3266                         0.0                         0.0  1367.724927  \n",
       "3267                         0.0                         0.0  1367.731913  \n",
       "3268                         0.0                         0.0  1367.753377  \n",
       "3269                         0.0                         0.0  1367.809654  \n",
       "3270                         0.0                         0.0  1367.821966  \n",
       "\n",
       "[5 rows x 22 columns]"
      ]
     },
     "execution_count": 28,
     "metadata": {},
     "output_type": "execute_result"
    }
   ],
   "source": [
    "future=m.make_future_dataframe(periods=730,freq='D')\n",
    "forecast=m.predict(future)\n",
    "forecast.tail()"
   ]
  },
  {
   "cell_type": "code",
   "execution_count": 63,
   "metadata": {},
   "outputs": [
    {
     "data": {
      "text/html": [
       "<div>\n",
       "<style scoped>\n",
       "    .dataframe tbody tr th:only-of-type {\n",
       "        vertical-align: middle;\n",
       "    }\n",
       "\n",
       "    .dataframe tbody tr th {\n",
       "        vertical-align: top;\n",
       "    }\n",
       "\n",
       "    .dataframe thead th {\n",
       "        text-align: right;\n",
       "    }\n",
       "</style>\n",
       "<table border=\"1\" class=\"dataframe\">\n",
       "  <thead>\n",
       "    <tr style=\"text-align: right;\">\n",
       "      <th></th>\n",
       "      <th>total_irradiance</th>\n",
       "      <th>date</th>\n",
       "    </tr>\n",
       "  </thead>\n",
       "  <tbody>\n",
       "    <tr>\n",
       "      <th>3434</th>\n",
       "      <td>1367.650</td>\n",
       "      <td>1989-05-28</td>\n",
       "    </tr>\n",
       "    <tr>\n",
       "      <th>3435</th>\n",
       "      <td>1367.729</td>\n",
       "      <td>1989-05-29</td>\n",
       "    </tr>\n",
       "    <tr>\n",
       "      <th>3436</th>\n",
       "      <td>1367.588</td>\n",
       "      <td>1989-05-30</td>\n",
       "    </tr>\n",
       "    <tr>\n",
       "      <th>3437</th>\n",
       "      <td>1367.543</td>\n",
       "      <td>1989-05-31</td>\n",
       "    </tr>\n",
       "    <tr>\n",
       "      <th>3438</th>\n",
       "      <td>1367.714</td>\n",
       "      <td>1989-06-01</td>\n",
       "    </tr>\n",
       "  </tbody>\n",
       "</table>\n",
       "</div>"
      ],
      "text/plain": [
       "      total_irradiance       date\n",
       "3434          1367.650 1989-05-28\n",
       "3435          1367.729 1989-05-29\n",
       "3436          1367.588 1989-05-30\n",
       "3437          1367.543 1989-05-31\n",
       "3438          1367.714 1989-06-01"
      ]
     },
     "execution_count": 63,
     "metadata": {},
     "output_type": "execute_result"
    }
   ],
   "source": [
    "test_data.tail()"
   ]
  },
  {
   "cell_type": "code",
   "execution_count": 29,
   "metadata": {},
   "outputs": [
    {
     "data": {
      "image/png": "[encoded data removed]",
      "text/plain": [
       "<Figure size 720x432 with 1 Axes>"
      ]
     },
     "metadata": {},
     "output_type": "display_data"
    }
   ],
   "source": [
    "plot1=m.plot(forecast)"
   ]
  },
  {
   "cell_type": "code",
   "execution_count": 57,
   "metadata": {},
   "outputs": [
    {
     "ename": "ValueError",
     "evalue": "Found input variables with inconsistent numbers of samples: [512, 3271]",
     "output_type": "error",
     "traceback": [
      "\u001b[1;31m---------------------------------------------------------------------------\u001b[0m",
      "\u001b[1;31mValueError\u001b[0m                                Traceback (most recent call last)",
      "\u001b[1;32m<ipython-input-57-e10194ea9c26>\u001b[0m in \u001b[0;36m<module>\u001b[1;34m\u001b[0m\n\u001b[0;32m      1\u001b[0m \u001b[0mforecast_test\u001b[0m\u001b[1;33m=\u001b[0m\u001b[0mforecast\u001b[0m\u001b[1;33m\u001b[0m\u001b[1;33m\u001b[0m\u001b[0m\n\u001b[0;32m      2\u001b[0m \u001b[1;32mfrom\u001b[0m \u001b[0msklearn\u001b[0m \u001b[1;32mimport\u001b[0m \u001b[0mmetrics\u001b[0m\u001b[1;33m\u001b[0m\u001b[1;33m\u001b[0m\u001b[0m\n\u001b[1;32m----> 3\u001b[1;33m \u001b[0mprint\u001b[0m\u001b[1;33m(\u001b[0m\u001b[1;34m'MAE:'\u001b[0m\u001b[1;33m,\u001b[0m \u001b[0mmetrics\u001b[0m\u001b[1;33m.\u001b[0m\u001b[0mmean_absolute_error\u001b[0m\u001b[1;33m(\u001b[0m\u001b[0mtest_data_forecast\u001b[0m\u001b[1;33m,\u001b[0m \u001b[0mforecast_test\u001b[0m\u001b[1;33m)\u001b[0m\u001b[1;33m)\u001b[0m\u001b[1;33m\u001b[0m\u001b[1;33m\u001b[0m\u001b[0m\n\u001b[0m\u001b[0;32m      4\u001b[0m \u001b[0mprint\u001b[0m\u001b[1;33m(\u001b[0m\u001b[1;34m'MSE:'\u001b[0m\u001b[1;33m,\u001b[0m \u001b[0mmetrics\u001b[0m\u001b[1;33m.\u001b[0m\u001b[0mmean_squared_error\u001b[0m\u001b[1;33m(\u001b[0m\u001b[0mtest_data_forecast\u001b[0m\u001b[1;33m,\u001b[0m \u001b[0mforecast_test\u001b[0m\u001b[1;33m)\u001b[0m\u001b[1;33m)\u001b[0m\u001b[1;33m\u001b[0m\u001b[1;33m\u001b[0m\u001b[0m\n\u001b[0;32m      5\u001b[0m \u001b[0mprint\u001b[0m\u001b[1;33m(\u001b[0m\u001b[1;34m'RMSE:'\u001b[0m\u001b[1;33m,\u001b[0m \u001b[0mnp\u001b[0m\u001b[1;33m.\u001b[0m\u001b[0msqrt\u001b[0m\u001b[1;33m(\u001b[0m\u001b[0mmetrics\u001b[0m\u001b[1;33m.\u001b[0m\u001b[0mmean_squared_error\u001b[0m\u001b[1;33m(\u001b[0m\u001b[0mtest_data_forecast\u001b[0m\u001b[1;33m,\u001b[0m \u001b[0mforecast_test\u001b[0m\u001b[1;33m)\u001b[0m\u001b[1;33m)\u001b[0m\u001b[1;33m)\u001b[0m\u001b[1;33m\u001b[0m\u001b[1;33m\u001b[0m\u001b[0m\n",
      "\u001b[1;32m~\\anaconda3\\lib\\site-packages\\sklearn\\metrics\\_regression.py\u001b[0m in \u001b[0;36mmean_absolute_error\u001b[1;34m(y_true, y_pred, sample_weight, multioutput)\u001b[0m\n\u001b[0;32m    176\u001b[0m     \"\"\"\n\u001b[0;32m    177\u001b[0m     y_type, y_true, y_pred, multioutput = _check_reg_targets(\n\u001b[1;32m--> 178\u001b[1;33m         y_true, y_pred, multioutput)\n\u001b[0m\u001b[0;32m    179\u001b[0m     \u001b[0mcheck_consistent_length\u001b[0m\u001b[1;33m(\u001b[0m\u001b[0my_true\u001b[0m\u001b[1;33m,\u001b[0m \u001b[0my_pred\u001b[0m\u001b[1;33m,\u001b[0m \u001b[0msample_weight\u001b[0m\u001b[1;33m)\u001b[0m\u001b[1;33m\u001b[0m\u001b[1;33m\u001b[0m\u001b[0m\n\u001b[0;32m    180\u001b[0m     output_errors = np.average(np.abs(y_pred - y_true),\n",
      "\u001b[1;32m~\\anaconda3\\lib\\site-packages\\sklearn\\metrics\\_regression.py\u001b[0m in \u001b[0;36m_check_reg_targets\u001b[1;34m(y_true, y_pred, multioutput, dtype)\u001b[0m\n\u001b[0;32m     82\u001b[0m \u001b[1;33m\u001b[0m\u001b[0m\n\u001b[0;32m     83\u001b[0m     \"\"\"\n\u001b[1;32m---> 84\u001b[1;33m     \u001b[0mcheck_consistent_length\u001b[0m\u001b[1;33m(\u001b[0m\u001b[0my_true\u001b[0m\u001b[1;33m,\u001b[0m \u001b[0my_pred\u001b[0m\u001b[1;33m)\u001b[0m\u001b[1;33m\u001b[0m\u001b[1;33m\u001b[0m\u001b[0m\n\u001b[0m\u001b[0;32m     85\u001b[0m     \u001b[0my_true\u001b[0m \u001b[1;33m=\u001b[0m \u001b[0mcheck_array\u001b[0m\u001b[1;33m(\u001b[0m\u001b[0my_true\u001b[0m\u001b[1;33m,\u001b[0m \u001b[0mensure_2d\u001b[0m\u001b[1;33m=\u001b[0m\u001b[1;32mFalse\u001b[0m\u001b[1;33m,\u001b[0m \u001b[0mdtype\u001b[0m\u001b[1;33m=\u001b[0m\u001b[0mdtype\u001b[0m\u001b[1;33m)\u001b[0m\u001b[1;33m\u001b[0m\u001b[1;33m\u001b[0m\u001b[0m\n\u001b[0;32m     86\u001b[0m     \u001b[0my_pred\u001b[0m \u001b[1;33m=\u001b[0m \u001b[0mcheck_array\u001b[0m\u001b[1;33m(\u001b[0m\u001b[0my_pred\u001b[0m\u001b[1;33m,\u001b[0m \u001b[0mensure_2d\u001b[0m\u001b[1;33m=\u001b[0m\u001b[1;32mFalse\u001b[0m\u001b[1;33m,\u001b[0m \u001b[0mdtype\u001b[0m\u001b[1;33m=\u001b[0m\u001b[0mdtype\u001b[0m\u001b[1;33m)\u001b[0m\u001b[1;33m\u001b[0m\u001b[1;33m\u001b[0m\u001b[0m\n",
      "\u001b[1;32m~\\anaconda3\\lib\\site-packages\\sklearn\\utils\\validation.py\u001b[0m in \u001b[0;36mcheck_consistent_length\u001b[1;34m(*arrays)\u001b[0m\n\u001b[0;32m    210\u001b[0m     \u001b[1;32mif\u001b[0m \u001b[0mlen\u001b[0m\u001b[1;33m(\u001b[0m\u001b[0muniques\u001b[0m\u001b[1;33m)\u001b[0m \u001b[1;33m>\u001b[0m \u001b[1;36m1\u001b[0m\u001b[1;33m:\u001b[0m\u001b[1;33m\u001b[0m\u001b[1;33m\u001b[0m\u001b[0m\n\u001b[0;32m    211\u001b[0m         raise ValueError(\"Found input variables with inconsistent numbers of\"\n\u001b[1;32m--> 212\u001b[1;33m                          \" samples: %r\" % [int(l) for l in lengths])\n\u001b[0m\u001b[0;32m    213\u001b[0m \u001b[1;33m\u001b[0m\u001b[0m\n\u001b[0;32m    214\u001b[0m \u001b[1;33m\u001b[0m\u001b[0m\n",
      "\u001b[1;31mValueError\u001b[0m: Found input variables with inconsistent numbers of samples: [512, 3271]"
     ]
    }
   ],
   "source": [
    "#map dates of y_test and forecast['y_hat']\n",
    "# forecast_test=forecast\n",
    "# from sklearn import metrics\n",
    "# print('MAE:', metrics.mean_absolute_error(test_data_forecast, forecast_test))\n",
    "# print('MSE:', metrics.mean_squared_error(test_data_forecast, forecast_test))\n",
    "# print('RMSE:', np.sqrt(metrics.mean_squared_error(test_data_forecast, forecast_test)))"
   ]
  },
  {
   "cell_type": "code",
   "execution_count": null,
   "metadata": {},
   "outputs": [],
   "source": []
  }
 ],
 "metadata": {
  "kernelspec": {
   "display_name": "Python 3",
   "language": "python",
   "name": "python3"
  },
  "language_info": {
   "codemirror_mode": {
    "name": "ipython",
    "version": 3
   },
   "file_extension": ".py",
   "mimetype": "text/x-python",
   "name": "python",
   "nbconvert_exporter": "python",
   "pygments_lexer": "ipython3",
   "version": "3.7.6"
  }
 },
 "nbformat": 4,
 "nbformat_minor": 4
}
